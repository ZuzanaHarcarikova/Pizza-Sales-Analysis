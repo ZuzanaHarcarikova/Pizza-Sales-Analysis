{
 "cells": [
  {
   "cell_type": "markdown",
   "id": "a61fae4a",
   "metadata": {},
   "source": [
    "python3 -m venv venv\n",
    "\n",
    "source venv/bin/activate\n",
    "\n",
    "\n",
    "deactivate\n",
    "\n",
    "rm -rf venv\n",
    "\n",
    "\n",
    "pip3 install numpy\n",
    "\n",
    "pip3 install pandas\n",
    "\n",
    "pip3 install matplotlib\n",
    "\n",
    "pip3 install seaborn "
   ]
  },
  {
   "cell_type": "code",
   "execution_count": 2,
   "id": "7b6b36d7",
   "metadata": {},
   "outputs": [],
   "source": [
    "# Import Packages\n",
    "import numpy as np\n",
    "import pandas as pd\n",
    "import matplotlib.pyplot as plt\n",
    "import seaborn as sns"
   ]
  },
  {
   "cell_type": "code",
   "execution_count": 2,
   "id": "be468b8a",
   "metadata": {},
   "outputs": [],
   "source": [
    "# Color Dictionary\n",
    "colors_dict = {\n",
    "    \"Red\": \"#8c0404\",\n",
    "    \"Pink\": \"#f25ed0\",\n",
    "    \"Black\": \"#000000\",\n",
    "    \"Green\": \"#16A085\",\n",
    "    \"Dark Blue\": \"#34495E\",\n",
    "    \"Navy Blue\": \"#21618C\",\n",
    "    \"Purple\": \"#512E5F\",\n",
    "    \"Turquoise\": \"#45B39D\",\n",
    "    \"Gray\": \"#AAB7B8\",\n",
    "    \"Light Blue\": \"#20B2AA\",\n",
    "    \"Hot Pink\": \"#FF69B4\",\n",
    "    \"Dark Turquoise\": \"#00CED1\",\n",
    "    \"Coral\": \"#FF7F50\",\n",
    "    \"Lime\": \"#7FFF00\",\n",
    "    \"Orchid\": \"#DA70D6\"\n",
    "}"
   ]
  },
  {
   "cell_type": "code",
   "execution_count": 5,
   "id": "aeab5fb2",
   "metadata": {},
   "outputs": [],
   "source": [
    "# Load the Database\n",
    "df = pd.read_csv(\"/Users/zuzanaharcarikova/Documents/A Python projects/Project_Pizza_Sales/pizza_sales.csv\")"
   ]
  },
  {
   "cell_type": "code",
   "execution_count": 5,
   "id": "d5a4c91b",
   "metadata": {},
   "outputs": [
    {
     "name": "stdout",
     "output_type": "stream",
     "text": [
      "<class 'pandas.core.frame.DataFrame'>\n",
      "RangeIndex: 48620 entries, 0 to 48619\n",
      "Data columns (total 12 columns):\n",
      " #   Column             Non-Null Count  Dtype  \n",
      "---  ------             --------------  -----  \n",
      " 0   pizza_id           48620 non-null  float64\n",
      " 1   order_id           48620 non-null  float64\n",
      " 2   pizza_name_id      48620 non-null  object \n",
      " 3   quantity           48620 non-null  float64\n",
      " 4   order_date         48620 non-null  object \n",
      " 5   order_time         48620 non-null  object \n",
      " 6   unit_price         48620 non-null  float64\n",
      " 7   total_price        48620 non-null  float64\n",
      " 8   pizza_size         48620 non-null  object \n",
      " 9   pizza_category     48620 non-null  object \n",
      " 10  pizza_ingredients  48620 non-null  object \n",
      " 11  pizza_name         48620 non-null  object \n",
      "dtypes: float64(5), object(7)\n",
      "memory usage: 4.5+ MB\n",
      "None\n"
     ]
    }
   ],
   "source": [
    "# Basic information \n",
    "print(df.info())"
   ]
  },
  {
   "cell_type": "code",
   "execution_count": 6,
   "id": "cf892763",
   "metadata": {},
   "outputs": [
    {
     "data": {
      "text/plain": [
       "pizza_id             0\n",
       "order_id             0\n",
       "pizza_name_id        0\n",
       "quantity             0\n",
       "order_date           0\n",
       "order_time           0\n",
       "unit_price           0\n",
       "total_price          0\n",
       "pizza_size           0\n",
       "pizza_category       0\n",
       "pizza_ingredients    0\n",
       "pizza_name           0\n",
       "dtype: int64"
      ]
     },
     "execution_count": 6,
     "metadata": {},
     "output_type": "execute_result"
    }
   ],
   "source": [
    "# Data quality diagnostics: number of missing (NaN) values in each column \n",
    "df.isna().sum()"
   ]
  },
  {
   "cell_type": "code",
   "execution_count": 7,
   "id": "172dab1a",
   "metadata": {},
   "outputs": [
    {
     "name": "stdout",
     "output_type": "stream",
     "text": [
      "   pizza_id  order_id  pizza_name_id  quantity order_date order_time  \\\n",
      "0       1.0       1.0     hawaiian_m       1.0   1/1/2015   11:38:36   \n",
      "1       2.0       2.0  classic_dlx_m       1.0   1/1/2015   11:57:40   \n",
      "2       3.0       2.0  five_cheese_l       1.0   1/1/2015   11:57:40   \n",
      "3       4.0       2.0    ital_supr_l       1.0   1/1/2015   11:57:40   \n",
      "4       5.0       2.0     mexicana_m       1.0   1/1/2015   11:57:40   \n",
      "\n",
      "   unit_price  total_price pizza_size pizza_category  \\\n",
      "0       13.25        13.25          M        Classic   \n",
      "1       16.00        16.00          M        Classic   \n",
      "2       18.50        18.50          L         Veggie   \n",
      "3       20.75        20.75          L        Supreme   \n",
      "4       16.00        16.00          M         Veggie   \n",
      "\n",
      "                                   pizza_ingredients  \\\n",
      "0           Sliced Ham, Pineapple, Mozzarella Cheese   \n",
      "1  Pepperoni, Mushrooms, Red Onions, Red Peppers,...   \n",
      "2  Mozzarella Cheese, Provolone Cheese, Smoked Go...   \n",
      "3  Calabrese Salami, Capocollo, Tomatoes, Red Oni...   \n",
      "4  Tomatoes, Red Peppers, Jalapeno Peppers, Red O...   \n",
      "\n",
      "                  pizza_name  \n",
      "0         The Hawaiian Pizza  \n",
      "1   The Classic Deluxe Pizza  \n",
      "2      The Five Cheese Pizza  \n",
      "3  The Italian Supreme Pizza  \n",
      "4         The Mexicana Pizza  \n"
     ]
    }
   ],
   "source": [
    "# First 5 rows\n",
    "print(df.head())"
   ]
  },
  {
   "cell_type": "code",
   "execution_count": 10,
   "id": "03b46132",
   "metadata": {},
   "outputs": [],
   "source": [
    "# Replace abbreviations for better clarity, interpretation of charts and visualizations\n",
    "df['pizza_size'] = df['pizza_size'].replace({'S': 'Small', 'M': 'Medium', 'L': 'Large', 'XL' : 'X-Large' , 'XXL' : 'XX-Large'}, inplace=False)\n"
   ]
  },
  {
   "cell_type": "code",
   "execution_count": 11,
   "id": "ef3d435a",
   "metadata": {},
   "outputs": [
    {
     "name": "stdout",
     "output_type": "stream",
     "text": [
      "           pizza_id      order_id      quantity    unit_price   total_price\n",
      "count  48620.000000  48620.000000  48620.000000  48620.000000  48620.000000\n",
      "mean   24310.500000  10701.479761      1.019622     16.494132     16.821474\n",
      "std    14035.529381   6180.119770      0.143077      3.621789      4.437398\n",
      "min        1.000000      1.000000      1.000000      9.750000      9.750000\n",
      "25%    12155.750000   5337.000000      1.000000     12.750000     12.750000\n",
      "50%    24310.500000  10682.500000      1.000000     16.500000     16.500000\n",
      "75%    36465.250000  16100.000000      1.000000     20.250000     20.500000\n",
      "max    48620.000000  21350.000000      4.000000     35.950000     83.000000\n"
     ]
    }
   ],
   "source": [
    "# Basic statistics \n",
    "print(df.describe())"
   ]
  },
  {
   "cell_type": "code",
   "execution_count": null,
   "id": "b26b7f6f",
   "metadata": {},
   "outputs": [
    {
     "data": {
      "image/png": "[encoded data removed]",
      "text/plain": [
       "<Figure size 640x480 with 2 Axes>"
      ]
     },
     "metadata": {},
     "output_type": "display_data"
    }
   ],
   "source": [
    "# Display the correlation for each column\n",
    "numeric_columns = df.select_dtypes(include= ['number'])\n",
    "sns.heatmap(numeric_columns.corr(),cmap = 'YlOrBr', annot =True)\n",
    "plt.show()"
   ]
  },
  {
   "cell_type": "code",
   "execution_count": 10,
   "id": "dd922bf4",
   "metadata": {},
   "outputs": [
    {
     "data": {
      "image/png": "[encoded data removed]",
      "text/plain": [
       "<Figure size 800x500 with 1 Axes>"
      ]
     },
     "metadata": {},
     "output_type": "display_data"
    }
   ],
   "source": [
    "# Display the distribution of data based on the quartiles and potential outliers.\n",
    "\n",
    "selected_columns = ['order_id', 'pizza_id']\n",
    "plt.figure(figsize=(8, 5))\n",
    "sns.boxplot(data=df[selected_columns])\n",
    "plt.xticks(rotation=45)\n",
    "plt.title('Boxplot of Quantity')\n",
    "plt.xlabel('Columns')\n",
    "plt.ylabel('Values')\n",
    "plt.grid(True)\n",
    "plt.show()"
   ]
  },
  {
   "cell_type": "code",
   "execution_count": 8,
   "id": "d836420d",
   "metadata": {},
   "outputs": [
    {
     "data": {
      "image/png": "[encoded data removed]",
      "text/plain": [
       "<Figure size 800x500 with 1 Axes>"
      ]
     },
     "metadata": {},
     "output_type": "display_data"
    }
   ],
   "source": [
    "# Display the distribution of data based on the quartiles and potential outliers.\n",
    "\n",
    "selected_columns = ['unit_price', 'total_price']\n",
    "plt.figure(figsize=(8, 5))\n",
    "sns.boxplot(data=df[selected_columns])\n",
    "plt.xticks(rotation=45)\n",
    "plt.title('Boxplot of Unit Price and  Total Price')\n",
    "plt.xlabel('Columns')\n",
    "plt.ylabel('Values')\n",
    "plt.grid(True)\n",
    "plt.show()"
   ]
  },
  {
   "cell_type": "code",
   "execution_count": 9,
   "id": "10e9a8df",
   "metadata": {},
   "outputs": [
    {
     "data": {
      "image/png": "[encoded data removed]",
      "text/plain": [
       "<Figure size 800x500 with 1 Axes>"
      ]
     },
     "metadata": {},
     "output_type": "display_data"
    }
   ],
   "source": [
    "# Display the distribution of data based on the quartiles and potential outliers.\n",
    "\n",
    "selected_columns = ['quantity']\n",
    "plt.figure(figsize=(8, 5))\n",
    "sns.boxplot(data=df[selected_columns])\n",
    "plt.xticks(rotation=45)\n",
    "plt.title('Boxplot of Quantity')\n",
    "plt.xlabel('Columns')\n",
    "plt.ylabel('Values')\n",
    "plt.grid(True)\n",
    "plt.show()"
   ]
  },
  {
   "cell_type": "code",
   "execution_count": 20,
   "id": "62cea6a4",
   "metadata": {},
   "outputs": [
    {
     "data": {
      "text/html": [
       "<div>\n",
       "<style scoped>\n",
       "    .dataframe tbody tr th:only-of-type {\n",
       "        vertical-align: middle;\n",
       "    }\n",
       "\n",
       "    .dataframe tbody tr th {\n",
       "        vertical-align: top;\n",
       "    }\n",
       "\n",
       "    .dataframe thead th {\n",
       "        text-align: right;\n",
       "    }\n",
       "</style>\n",
       "<table border=\"1\" class=\"dataframe\">\n",
       "  <thead>\n",
       "    <tr style=\"text-align: right;\">\n",
       "      <th></th>\n",
       "      <th>pizza_id</th>\n",
       "      <th>order_id</th>\n",
       "      <th>pizza_name_id</th>\n",
       "      <th>quantity</th>\n",
       "      <th>order_date</th>\n",
       "      <th>order_time</th>\n",
       "      <th>unit_price</th>\n",
       "      <th>total_price</th>\n",
       "      <th>pizza_size</th>\n",
       "      <th>pizza_category</th>\n",
       "      <th>pizza_ingredients</th>\n",
       "      <th>pizza_name</th>\n",
       "    </tr>\n",
       "  </thead>\n",
       "  <tbody>\n",
       "    <tr>\n",
       "      <th>183</th>\n",
       "      <td>184.0</td>\n",
       "      <td>78.0</td>\n",
       "      <td>spicy_ital_l</td>\n",
       "      <td>3.0</td>\n",
       "      <td>2/1/2015</td>\n",
       "      <td>12:28:14</td>\n",
       "      <td>20.75</td>\n",
       "      <td>62.25</td>\n",
       "      <td>L</td>\n",
       "      <td>Supreme</td>\n",
       "      <td>Capocollo, Tomatoes, Goat Cheese, Artichokes, ...</td>\n",
       "      <td>The Spicy Italian Pizza</td>\n",
       "    </tr>\n",
       "    <tr>\n",
       "      <th>211</th>\n",
       "      <td>212.0</td>\n",
       "      <td>91.0</td>\n",
       "      <td>bbq_ckn_l</td>\n",
       "      <td>2.0</td>\n",
       "      <td>2/1/2015</td>\n",
       "      <td>15:14:43</td>\n",
       "      <td>20.75</td>\n",
       "      <td>41.50</td>\n",
       "      <td>L</td>\n",
       "      <td>Chicken</td>\n",
       "      <td>Barbecued Chicken, Red Peppers, Green Peppers,...</td>\n",
       "      <td>The Barbecue Chicken Pizza</td>\n",
       "    </tr>\n",
       "    <tr>\n",
       "      <th>341</th>\n",
       "      <td>342.0</td>\n",
       "      <td>144.0</td>\n",
       "      <td>bbq_ckn_m</td>\n",
       "      <td>3.0</td>\n",
       "      <td>3/1/2015</td>\n",
       "      <td>13:44:28</td>\n",
       "      <td>16.75</td>\n",
       "      <td>50.25</td>\n",
       "      <td>M</td>\n",
       "      <td>Chicken</td>\n",
       "      <td>Barbecued Chicken, Red Peppers, Green Peppers,...</td>\n",
       "      <td>The Barbecue Chicken Pizza</td>\n",
       "    </tr>\n",
       "    <tr>\n",
       "      <th>456</th>\n",
       "      <td>457.0</td>\n",
       "      <td>193.0</td>\n",
       "      <td>ckn_alfredo_l</td>\n",
       "      <td>2.0</td>\n",
       "      <td>3/1/2015</td>\n",
       "      <td>20:55:47</td>\n",
       "      <td>20.75</td>\n",
       "      <td>41.50</td>\n",
       "      <td>L</td>\n",
       "      <td>Chicken</td>\n",
       "      <td>Chicken, Red Onions, Red Peppers, Mushrooms, A...</td>\n",
       "      <td>The Chicken Alfredo Pizza</td>\n",
       "    </tr>\n",
       "    <tr>\n",
       "      <th>611</th>\n",
       "      <td>612.0</td>\n",
       "      <td>271.0</td>\n",
       "      <td>cali_ckn_m</td>\n",
       "      <td>2.0</td>\n",
       "      <td>5/1/2015</td>\n",
       "      <td>14:22:19</td>\n",
       "      <td>16.75</td>\n",
       "      <td>33.50</td>\n",
       "      <td>M</td>\n",
       "      <td>Chicken</td>\n",
       "      <td>Chicken, Artichoke, Spinach, Garlic, Jalapeno ...</td>\n",
       "      <td>The California Chicken Pizza</td>\n",
       "    </tr>\n",
       "    <tr>\n",
       "      <th>...</th>\n",
       "      <td>...</td>\n",
       "      <td>...</td>\n",
       "      <td>...</td>\n",
       "      <td>...</td>\n",
       "      <td>...</td>\n",
       "      <td>...</td>\n",
       "      <td>...</td>\n",
       "      <td>...</td>\n",
       "      <td>...</td>\n",
       "      <td>...</td>\n",
       "      <td>...</td>\n",
       "      <td>...</td>\n",
       "    </tr>\n",
       "    <tr>\n",
       "      <th>48396</th>\n",
       "      <td>48397.0</td>\n",
       "      <td>21251.0</td>\n",
       "      <td>four_cheese_l</td>\n",
       "      <td>2.0</td>\n",
       "      <td>30-12-2015</td>\n",
       "      <td>12:45:20</td>\n",
       "      <td>17.95</td>\n",
       "      <td>35.90</td>\n",
       "      <td>L</td>\n",
       "      <td>Veggie</td>\n",
       "      <td>Ricotta Cheese, Gorgonzola Piccante Cheese, Mo...</td>\n",
       "      <td>The Four Cheese Pizza</td>\n",
       "    </tr>\n",
       "    <tr>\n",
       "      <th>48417</th>\n",
       "      <td>48418.0</td>\n",
       "      <td>21260.0</td>\n",
       "      <td>prsc_argla_m</td>\n",
       "      <td>2.0</td>\n",
       "      <td>30-12-2015</td>\n",
       "      <td>15:45:32</td>\n",
       "      <td>16.50</td>\n",
       "      <td>33.00</td>\n",
       "      <td>M</td>\n",
       "      <td>Supreme</td>\n",
       "      <td>Prosciutto di San Daniele, Arugula, Mozzarella...</td>\n",
       "      <td>The Prosciutto and Arugula Pizza</td>\n",
       "    </tr>\n",
       "    <tr>\n",
       "      <th>48466</th>\n",
       "      <td>48467.0</td>\n",
       "      <td>21288.0</td>\n",
       "      <td>classic_dlx_m</td>\n",
       "      <td>3.0</td>\n",
       "      <td>31-12-2015</td>\n",
       "      <td>13:04:18</td>\n",
       "      <td>16.00</td>\n",
       "      <td>48.00</td>\n",
       "      <td>M</td>\n",
       "      <td>Classic</td>\n",
       "      <td>Pepperoni, Mushrooms, Red Onions, Red Peppers,...</td>\n",
       "      <td>The Classic Deluxe Pizza</td>\n",
       "    </tr>\n",
       "    <tr>\n",
       "      <th>48575</th>\n",
       "      <td>48576.0</td>\n",
       "      <td>21331.0</td>\n",
       "      <td>bbq_ckn_l</td>\n",
       "      <td>2.0</td>\n",
       "      <td>31-12-2015</td>\n",
       "      <td>19:05:04</td>\n",
       "      <td>20.75</td>\n",
       "      <td>41.50</td>\n",
       "      <td>L</td>\n",
       "      <td>Chicken</td>\n",
       "      <td>Barbecued Chicken, Red Peppers, Green Peppers,...</td>\n",
       "      <td>The Barbecue Chicken Pizza</td>\n",
       "    </tr>\n",
       "    <tr>\n",
       "      <th>48601</th>\n",
       "      <td>48602.0</td>\n",
       "      <td>21343.0</td>\n",
       "      <td>spicy_ital_l</td>\n",
       "      <td>2.0</td>\n",
       "      <td>31-12-2015</td>\n",
       "      <td>20:27:23</td>\n",
       "      <td>20.75</td>\n",
       "      <td>41.50</td>\n",
       "      <td>L</td>\n",
       "      <td>Supreme</td>\n",
       "      <td>Capocollo, Tomatoes, Goat Cheese, Artichokes, ...</td>\n",
       "      <td>The Spicy Italian Pizza</td>\n",
       "    </tr>\n",
       "  </tbody>\n",
       "</table>\n",
       "<p>613 rows × 12 columns</p>\n",
       "</div>"
      ],
      "text/plain": [
       "       pizza_id  order_id  pizza_name_id  quantity  order_date order_time  \\\n",
       "183       184.0      78.0   spicy_ital_l       3.0    2/1/2015   12:28:14   \n",
       "211       212.0      91.0      bbq_ckn_l       2.0    2/1/2015   15:14:43   \n",
       "341       342.0     144.0      bbq_ckn_m       3.0    3/1/2015   13:44:28   \n",
       "456       457.0     193.0  ckn_alfredo_l       2.0    3/1/2015   20:55:47   \n",
       "611       612.0     271.0     cali_ckn_m       2.0    5/1/2015   14:22:19   \n",
       "...         ...       ...            ...       ...         ...        ...   \n",
       "48396   48397.0   21251.0  four_cheese_l       2.0  30-12-2015   12:45:20   \n",
       "48417   48418.0   21260.0   prsc_argla_m       2.0  30-12-2015   15:45:32   \n",
       "48466   48467.0   21288.0  classic_dlx_m       3.0  31-12-2015   13:04:18   \n",
       "48575   48576.0   21331.0      bbq_ckn_l       2.0  31-12-2015   19:05:04   \n",
       "48601   48602.0   21343.0   spicy_ital_l       2.0  31-12-2015   20:27:23   \n",
       "\n",
       "       unit_price  total_price pizza_size pizza_category  \\\n",
       "183         20.75        62.25          L        Supreme   \n",
       "211         20.75        41.50          L        Chicken   \n",
       "341         16.75        50.25          M        Chicken   \n",
       "456         20.75        41.50          L        Chicken   \n",
       "611         16.75        33.50          M        Chicken   \n",
       "...           ...          ...        ...            ...   \n",
       "48396       17.95        35.90          L         Veggie   \n",
       "48417       16.50        33.00          M        Supreme   \n",
       "48466       16.00        48.00          M        Classic   \n",
       "48575       20.75        41.50          L        Chicken   \n",
       "48601       20.75        41.50          L        Supreme   \n",
       "\n",
       "                                       pizza_ingredients  \\\n",
       "183    Capocollo, Tomatoes, Goat Cheese, Artichokes, ...   \n",
       "211    Barbecued Chicken, Red Peppers, Green Peppers,...   \n",
       "341    Barbecued Chicken, Red Peppers, Green Peppers,...   \n",
       "456    Chicken, Red Onions, Red Peppers, Mushrooms, A...   \n",
       "611    Chicken, Artichoke, Spinach, Garlic, Jalapeno ...   \n",
       "...                                                  ...   \n",
       "48396  Ricotta Cheese, Gorgonzola Piccante Cheese, Mo...   \n",
       "48417  Prosciutto di San Daniele, Arugula, Mozzarella...   \n",
       "48466  Pepperoni, Mushrooms, Red Onions, Red Peppers,...   \n",
       "48575  Barbecued Chicken, Red Peppers, Green Peppers,...   \n",
       "48601  Capocollo, Tomatoes, Goat Cheese, Artichokes, ...   \n",
       "\n",
       "                             pizza_name  \n",
       "183             The Spicy Italian Pizza  \n",
       "211          The Barbecue Chicken Pizza  \n",
       "341          The Barbecue Chicken Pizza  \n",
       "456           The Chicken Alfredo Pizza  \n",
       "611        The California Chicken Pizza  \n",
       "...                                 ...  \n",
       "48396             The Four Cheese Pizza  \n",
       "48417  The Prosciutto and Arugula Pizza  \n",
       "48466          The Classic Deluxe Pizza  \n",
       "48575        The Barbecue Chicken Pizza  \n",
       "48601           The Spicy Italian Pizza  \n",
       "\n",
       "[613 rows x 12 columns]"
      ]
     },
     "execution_count": 20,
     "metadata": {},
     "output_type": "execute_result"
    }
   ],
   "source": [
    "# Look for outliers using IQR (Interquartile Range)\n",
    "Q1 = df['total_price'].quantile(0.25)\n",
    "Q3 = df['total_price'].quantile(0.75)\n",
    "IQR = Q3 - Q1\n",
    "outliers = df[(df['total_price'] < (Q1 - 1.5 * IQR)) | (df['total_price'] > (Q3 + 1.5 * IQR))]\n",
    "\n",
    "lower_bound = Q1 - 1.5 * IQR\n",
    "upper_bound = Q3 + 1.5 * IQR\n",
    "\n",
    "#Return outliers\n",
    "pd.set_option('display.max_rows',100)\n",
    "outliers"
   ]
  },
  {
   "cell_type": "code",
   "execution_count": 16,
   "id": "376dbc84",
   "metadata": {},
   "outputs": [
    {
     "name": "stdout",
     "output_type": "stream",
     "text": [
      "       order_id  total_price\n",
      "0           1.0        13.25\n",
      "1           2.0        92.00\n",
      "2           3.0        37.25\n",
      "3           4.0        16.50\n",
      "4           5.0        16.50\n",
      "...         ...          ...\n",
      "21345   21346.0        62.25\n",
      "21346   21347.0        66.50\n",
      "21347   21348.0        46.70\n",
      "21348   21349.0        20.25\n",
      "21349   21350.0        12.75\n",
      "\n",
      "[21350 rows x 2 columns]\n"
     ]
    }
   ],
   "source": [
    "# Grouping by 'order_id' and summing the 'total_price' for each unique order\n",
    "total_sales_per_order = df.groupby('order_id')['total_price'].sum().reset_index()\n",
    "print(total_sales_per_order)"
   ]
  },
  {
   "cell_type": "code",
   "execution_count": 17,
   "id": "8c9eacd9",
   "metadata": {},
   "outputs": [],
   "source": [
    "# Data Export \n",
    "df.to_csv('cleaned_pizza_sales.csv')"
   ]
  }
 ],
 "metadata": {
  "kernelspec": {
   "display_name": "venv",
   "language": "python",
   "name": "python3"
  },
  "language_info": {
   "codemirror_mode": {
    "name": "ipython",
    "version": 3
   },
   "file_extension": ".py",
   "mimetype": "text/x-python",
   "name": "python",
   "nbconvert_exporter": "python",
   "pygments_lexer": "ipython3",
   "version": "3.12.4"
  }
 },
 "nbformat": 4,
 "nbformat_minor": 5
}
